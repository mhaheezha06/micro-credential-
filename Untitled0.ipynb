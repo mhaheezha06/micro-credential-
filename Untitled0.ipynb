{
  "nbformat": 4,
  "nbformat_minor": 0,
  "metadata": {
    "colab": {
      "name": "Untitled0.ipynb",
      "provenance": [],
      "authorship_tag": "ABX9TyOfHD207GjCCMshCXgE9wz/",
      "include_colab_link": true
    },
    "kernelspec": {
      "name": "python3",
      "display_name": "Python 3"
    },
    "language_info": {
      "name": "python"
    }
  },
  "cells": [
    {
      "cell_type": "markdown",
      "metadata": {
        "id": "view-in-github",
        "colab_type": "text"
      },
      "source": [
        "<a href=\"https://colab.research.google.com/github/mhaheezha06/micro-credential-/blob/main/Untitled0.ipynb\" target=\"_parent\"><img src=\"https://colab.research.google.com/assets/colab-badge.svg\" alt=\"Open In Colab\"/></a>"
      ]
    },
    {
      "cell_type": "markdown",
      "source": [
        "unit 2 assignment 1\n"
      ],
      "metadata": {
        "id": "RvsImdAOS0lT"
      }
    },
    {
      "cell_type": "markdown",
      "source": [
        "listing variables"
      ],
      "metadata": {
        "id": "JnAwIYFs0InW"
      }
    },
    {
      "cell_type": "code",
      "source": [
        "friends = ['summer','idera','oyinda','kamil']\n",
        "message = \"we going out \" + tonight [0].upper() + \"!!!\"\n",
        "print (message)"
      ],
      "metadata": {
        "colab": {
          "base_uri": "https://localhost:8080/",
          "height": 200
        },
        "id": "BOSihnnr0k5B",
        "outputId": "7f43f293-2a00-49a1-d3b2-7fe169ea1be2"
      },
      "execution_count": null,
      "outputs": [
        {
          "output_type": "error",
          "ename": "NameError",
          "evalue": "ignored",
          "traceback": [
            "\u001b[0;31m---------------------------------------------------------------------------\u001b[0m",
            "\u001b[0;31mNameError\u001b[0m                                 Traceback (most recent call last)",
            "\u001b[0;32m<ipython-input-3-b540bb763275>\u001b[0m in \u001b[0;36m<module>\u001b[0;34m()\u001b[0m\n\u001b[1;32m      1\u001b[0m \u001b[0mfriends\u001b[0m \u001b[0;34m=\u001b[0m \u001b[0;34m[\u001b[0m\u001b[0;34m'summer'\u001b[0m\u001b[0;34m,\u001b[0m\u001b[0;34m'idera'\u001b[0m\u001b[0;34m,\u001b[0m\u001b[0;34m'oyinda'\u001b[0m\u001b[0;34m,\u001b[0m\u001b[0;34m'kamil'\u001b[0m\u001b[0;34m]\u001b[0m\u001b[0;34m\u001b[0m\u001b[0;34m\u001b[0m\u001b[0m\n\u001b[0;32m----> 2\u001b[0;31m \u001b[0mmessage\u001b[0m \u001b[0;34m=\u001b[0m \u001b[0;34m\"we going out \"\u001b[0m \u001b[0;34m+\u001b[0m \u001b[0mtonight\u001b[0m \u001b[0;34m[\u001b[0m\u001b[0;36m0\u001b[0m\u001b[0;34m]\u001b[0m\u001b[0;34m.\u001b[0m\u001b[0mupper\u001b[0m\u001b[0;34m(\u001b[0m\u001b[0;34m)\u001b[0m \u001b[0;34m+\u001b[0m \u001b[0;34m\"!!!\"\u001b[0m\u001b[0;34m\u001b[0m\u001b[0;34m\u001b[0m\u001b[0m\n\u001b[0m\u001b[1;32m      3\u001b[0m \u001b[0mprint\u001b[0m \u001b[0;34m(\u001b[0m\u001b[0mmessage\u001b[0m\u001b[0;34m)\u001b[0m\u001b[0;34m\u001b[0m\u001b[0;34m\u001b[0m\u001b[0m\n",
            "\u001b[0;31mNameError\u001b[0m: name 'tonight' is not defined"
          ]
        }
      ]
    },
    {
      "cell_type": "markdown",
      "source": [
        "element of listing"
      ],
      "metadata": {
        "id": "dshLLIed3rSz"
      }
    },
    {
      "cell_type": "code",
      "source": [
        "print('rice','spaghetti','fish','food is life')\n",
        "['rice','spaghetti','fish','pizza']\n",
        "('rice','spaghetti','fish')\n",
        "('bread','rice','spaghetti','fish')"
      ],
      "metadata": {
        "colab": {
          "base_uri": "https://localhost:8080/"
        },
        "id": "Rk7xlNtp4Amf",
        "outputId": "51bc7d9c-d42d-4b30-b7bc-0da048e6fd1f"
      },
      "execution_count": null,
      "outputs": [
        {
          "output_type": "stream",
          "name": "stdout",
          "text": [
            "rice spaghetti fish food is life\n"
          ]
        },
        {
          "output_type": "execute_result",
          "data": {
            "text/plain": [
              "('bread', 'rice', 'spaghetti', 'fish')"
            ]
          },
          "metadata": {},
          "execution_count": 12
        }
      ]
    },
    {
      "cell_type": "markdown",
      "source": [
        "the lenght of your list\n"
      ],
      "metadata": {
        "id": "TgtUDvNdCjL4"
      }
    },
    {
      "cell_type": "code",
      "source": [
        "print['satorrini','mexico','dubia','paris','tokyo']\n",
        "len('tokyo','paris','dubia',)"
      ],
      "metadata": {
        "id": "il_4XqGPC_iv"
      },
      "execution_count": null,
      "outputs": []
    },
    {
      "cell_type": "markdown",
      "source": [
        "loooooops\n"
      ],
      "metadata": {
        "id": "fcYkz7qTMBmH"
      }
    },
    {
      "cell_type": "code",
      "source": [
        "\n",
        "_ food"
      ],
      "metadata": {
        "id": "FkvPAZrrMUrC"
      },
      "execution_count": null,
      "outputs": []
    },
    {
      "cell_type": "code",
      "source": [
        "print = (\"stella GOMEZ\")\n"
      ],
      "metadata": {
        "id": "fWThVtR7uTn-"
      },
      "execution_count": null,
      "outputs": []
    },
    {
      "cell_type": "markdown",
      "source": [
        "(1) python is an high level programming language that interprete, interact, and also solve problems. it useful because it focused on realibilty and productivity,variable as an object including creating a community.\n",
        "(2) all the variable name allowed in python.\n",
        "\n",
        " "
      ],
      "metadata": {
        "id": "acx_eBpWS9xO"
      }
    },
    {
      "cell_type": "code",
      "source": [
        "print = ('maizat','BUHARI')"
      ],
      "metadata": {
        "id": "lEXVYWRiOGEE"
      },
      "execution_count": 1,
      "outputs": []
    },
    {
      "cell_type": "code",
      "source": [
        "message = \"maizatbuhari@gmail.com\"\n",
        "print(message)"
      ],
      "metadata": {
        "colab": {
          "base_uri": "https://localhost:8080/"
        },
        "id": "oCB1dLHksb_i",
        "outputId": "42994827-729f-432f-aba3-d5d92d9811c2"
      },
      "execution_count": null,
      "outputs": [
        {
          "output_type": "stream",
          "name": "stdout",
          "text": [
            "maizatbuhari@gmail.com\n"
          ]
        }
      ]
    },
    {
      "cell_type": "code",
      "source": [
        "print(\"hello there!\")"
      ],
      "metadata": {
        "colab": {
          "base_uri": "https://localhost:8080/"
        },
        "id": "jczk--hoYBaN",
        "outputId": "001beb0d-dfeb-4bd3-91e4-dca62733c6ec"
      },
      "execution_count": null,
      "outputs": [
        {
          "output_type": "stream",
          "name": "stdout",
          "text": [
            "hello there!\n"
          ]
        }
      ]
    },
    {
      "cell_type": "markdown",
      "source": [
        "printing message.\n"
      ],
      "metadata": {
        "id": "4kJXvf-dUQtk"
      }
    },
    {
      "cell_type": "code",
      "source": [
        "age = 25\n",
        "#    do it different types\n",
        "#one\n",
        "txt = \"my name is maizat, and I am {} years old\"\n",
        "print(txt.format(age))\n",
        "#my mood\n",
        "print(\"my name is maizat, and I am\"+' '+ str(age)+\"years old\")"
      ],
      "metadata": {
        "colab": {
          "base_uri": "https://localhost:8080/"
        },
        "id": "qq78vvdUUdQk",
        "outputId": "60f80f07-bda9-4efb-a186-33d1c45d6697"
      },
      "execution_count": null,
      "outputs": [
        {
          "output_type": "stream",
          "name": "stdout",
          "text": [
            "my name is maizat, and I am 25 years old\n",
            "my name is maizat, and I am 25years old\n"
          ]
        }
      ]
    },
    {
      "cell_type": "markdown",
      "source": [
        ""
      ],
      "metadata": {
        "id": "6-z1PaiKStds"
      }
    },
    {
      "cell_type": "markdown",
      "source": [
        "addition numbers\n"
      ],
      "metadata": {
        "id": "BnNbDA9SORS1"
      }
    },
    {
      "cell_type": "code",
      "source": [
        "age= 27\n",
        "message = \"Happy \" + str(age) + \"rd Birthday!\"\n",
        "print(message)"
      ],
      "metadata": {
        "colab": {
          "base_uri": "https://localhost:8080/"
        },
        "id": "otHo_cXaOY8-",
        "outputId": "a564f1f1-3e3a-4fa7-c5fc-49c585d4f32c"
      },
      "execution_count": null,
      "outputs": [
        {
          "output_type": "stream",
          "name": "stdout",
          "text": [
            "Happy 27rd Birthday!\n"
          ]
        }
      ]
    },
    {
      "cell_type": "markdown",
      "source": [
        "first_name=\"cuny\"\n"
      ],
      "metadata": {
        "id": "NHoBmf72FPko"
      }
    },
    {
      "cell_type": "code",
      "source": [
        "first_name=\"cuny\"\n",
        "last_name= \"brooklyn\"\n",
        "maizat_buhari =first_name+ \" \" + last_name\n",
        "print(maizat_buhari)"
      ],
      "metadata": {
        "colab": {
          "base_uri": "https://localhost:8080/"
        },
        "id": "scgnh00sF1Tb",
        "outputId": "aecbcfd5-2688-4df4-d0d4-1bf7a1a30d2e"
      },
      "execution_count": null,
      "outputs": [
        {
          "output_type": "stream",
          "name": "stdout",
          "text": [
            "cuny brooklyn\n"
          ]
        }
      ]
    },
    {
      "cell_type": "markdown",
      "source": [
        "namedata\n"
      ],
      "metadata": {
        "id": "T6dngIy7IWHv"
      }
    }
  ]
}