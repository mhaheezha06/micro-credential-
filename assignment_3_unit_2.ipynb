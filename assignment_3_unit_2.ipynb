{
  "nbformat": 4,
  "nbformat_minor": 0,
  "metadata": {
    "colab": {
      "name": "assignment 3 unit 2",
      "provenance": [],
      "authorship_tag": "ABX9TyPp+dYh+BPqso0h/FLH2/MH",
      "include_colab_link": true
    },
    "kernelspec": {
      "name": "python3",
      "display_name": "Python 3"
    },
    "language_info": {
      "name": "python"
    }
  },
  "cells": [
    {
      "cell_type": "markdown",
      "metadata": {
        "id": "view-in-github",
        "colab_type": "text"
      },
      "source": [
        "<a href=\"https://colab.research.google.com/github/mhaheezha06/micro-credential-/blob/main/assignment_3_unit_2.ipynb\" target=\"_parent\"><img src=\"https://colab.research.google.com/assets/colab-badge.svg\" alt=\"Open In Colab\"/></a>"
      ]
    },
    {
      "cell_type": "markdown",
      "source": [
        "unit 2 assignment 3\n",
        "\n"
      ],
      "metadata": {
        "id": "PrRoWReZwgEM"
      }
    },
    {
      "cell_type": "code",
      "source": [
        "\n",
        "tvshows = [\"star trek\",\"breaking bad\",\"band of brothers\",\"chernobyl\",\"avatar\"] \n",
        "lists=[\"breaking bad\"]\n",
        "lists=[\"band of brothers\"]\n",
        "lists=[\"chernobyl\"]\n",
        "lists=[\"avatar\"]\n",
        "print(tvshows)\n",
        "\n",
        "\n"
      ],
      "metadata": {
        "id": "GF0ZjdKSZBeD"
      },
      "execution_count": null,
      "outputs": []
    },
    {
      "cell_type": "markdown",
      "source": [
        "question 2"
      ],
      "metadata": {
        "id": "xEPzBzKeMglL"
      }
    },
    {
      "cell_type": "code",
      "source": [
        "tvshows = [\"star trek\",\"breaking bad\",\"band of brothers\",\"chernobyl\",\"avatar\"] \n",
        "lists=[\"breaking bad\"]\n",
        "lists=[\"band of brothers\"]\n",
        "lists=[\"chernobyl\"]\n",
        "lists=[\"avatar\"]\n",
        "print(tvshows)"
      ],
      "metadata": {
        "colab": {
          "base_uri": "https://localhost:8080/"
        },
        "id": "b826CjgWMrK6",
        "outputId": "d84b5968-4757-4678-8fd5-2e90b80f2c06"
      },
      "execution_count": 10,
      "outputs": [
        {
          "output_type": "stream",
          "name": "stdout",
          "text": [
            "['star trek', 'breaking bad', 'band of brothers', 'chernobyl', 'avatar']\n"
          ]
        }
      ]
    },
    {
      "cell_type": "code",
      "source": [
        ""
      ],
      "metadata": {
        "id": "wfJswnL1M2fw"
      },
      "execution_count": null,
      "outputs": []
    },
    {
      "cell_type": "markdown",
      "source": [
        "question 3"
      ],
      "metadata": {
        "id": "LJku1VzWMxA4"
      }
    },
    {
      "cell_type": "code",
      "source": [
        "tvshows = [\"star trek\",\"breaking bad\",\"band of brothers\",\"chernobyl\",\"avatar\"] \n",
        "tvshows.sort(key=lambda tvshows:tvshows)\n",
        "print(tvshows)\n"
      ],
      "metadata": {
        "id": "bsaXYK07XZiA"
      },
      "execution_count": null,
      "outputs": []
    },
    {
      "cell_type": "markdown",
      "source": [
        "question 4"
      ],
      "metadata": {
        "id": "Mt64r91Ebhix"
      }
    },
    {
      "cell_type": "code",
      "source": [
        "tvshows = [\"star trek\",\"breaking bad\",\"band of brothers\",\"chernobyl\",\"avatar\"] \n",
        "tvshows.sort(key=lambda tvshows:tvshows)\n",
        "print(tvshows)"
      ],
      "metadata": {
        "colab": {
          "base_uri": "https://localhost:8080/"
        },
        "id": "T49D7dh7brWl",
        "outputId": "64ca3c05-dfe7-4dbc-f2a7-4c909340224a"
      },
      "execution_count": 12,
      "outputs": [
        {
          "output_type": "stream",
          "name": "stdout",
          "text": [
            "['avatar', 'band of brothers', 'breaking bad', 'chernobyl', 'star trek']\n"
          ]
        }
      ]
    },
    {
      "cell_type": "markdown",
      "source": [
        "Question 5"
      ],
      "metadata": {
        "id": "QsAMboWXbwX5"
      }
    },
    {
      "cell_type": "code",
      "source": [
        "tvshows = [\"star trek\",\"breaking bad\",\"band of brothers\",\"chernobyl\",\"avatar\"]\n",
        "# approach: using reverse () method\n",
        "mylist =  [\"star trek\",\"breaking bad\",\"band of brothers\",\"chernobyl\",\"avatar\"]\n",
        "print(\"mylist before reverse:\",mylist)\n",
        "mylist.reverse()\n",
        "print(\"mylist after reverse:\",mylist)"
      ],
      "metadata": {
        "colab": {
          "base_uri": "https://localhost:8080/"
        },
        "id": "_7u5x7gzb2yL",
        "outputId": "a5ef39f3-95a8-4d85-f10f-40005376abc8"
      },
      "execution_count": 14,
      "outputs": [
        {
          "output_type": "stream",
          "name": "stdout",
          "text": [
            "mylist before reverse: ['star trek', 'breaking bad', 'band of brothers', 'chernobyl', 'avatar']\n",
            "mylist after reverse: ['avatar', 'chernobyl', 'band of brothers', 'breaking bad', 'star trek']\n"
          ]
        }
      ]
    },
    {
      "cell_type": "markdown",
      "source": [
        "Question 6"
      ],
      "metadata": {
        "id": "l-vASqGOeZG6"
      }
    },
    {
      "cell_type": "code",
      "source": [
        "\n",
        "# a collection of instructions\n",
        "# a collection of code\n",
        "def function1():\n",
        "  print(\"star trek\")\n",
        "  print(\"breaking bad\")\n",
        "  print(\"band of brothers\")\n",
        "  print(\"chernobyl\")\n",
        "  print(\"avatar\")\n",
        "\n",
        "function1()"
      ],
      "metadata": {
        "colab": {
          "base_uri": "https://localhost:8080/"
        },
        "id": "PDkGtvfseyhu",
        "outputId": "85377612-1d98-49cd-fd8d-d325326213a5"
      },
      "execution_count": 32,
      "outputs": [
        {
          "output_type": "stream",
          "name": "stdout",
          "text": [
            "star trek\n",
            "breaking bad\n",
            "band of brothers\n",
            "chernobyl\n",
            "avatar\n"
          ]
        }
      ]
    }
  ]
}