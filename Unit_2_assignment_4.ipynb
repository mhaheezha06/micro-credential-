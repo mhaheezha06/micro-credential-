{
  "nbformat": 4,
  "nbformat_minor": 0,
  "metadata": {
    "colab": {
      "name": "Unit 2 assignment 4",
      "provenance": [],
      "authorship_tag": "ABX9TyMvX6j7raFtcPwhs0OgUhV3",
      "include_colab_link": true
    },
    "kernelspec": {
      "name": "python3",
      "display_name": "Python 3"
    },
    "language_info": {
      "name": "python"
    }
  },
  "cells": [
    {
      "cell_type": "markdown",
      "metadata": {
        "id": "view-in-github",
        "colab_type": "text"
      },
      "source": [
        "<a href=\"https://colab.research.google.com/github/mhaheezha06/micro-credential-/blob/main/Unit_2_assignment_4.ipynb\" target=\"_parent\"><img src=\"https://colab.research.google.com/assets/colab-badge.svg\" alt=\"Open In Colab\"/></a>"
      ]
    },
    {
      "cell_type": "markdown",
      "source": [
        "question 1"
      ],
      "metadata": {
        "id": "xnlmvOO7SaLI"
      }
    },
    {
      "cell_type": "code",
      "source": [
        "a = [5,8,-6,4,3]\n",
        "# csdojo.io/python4\n",
        "# pycharm, IDE\n",
        "print(a)"
      ],
      "metadata": {
        "colab": {
          "base_uri": "https://localhost:8080/"
        },
        "id": "k_espZH_Se_o",
        "outputId": "5b02ac82-ace0-4952-e3d9-7067e3acae60"
      },
      "execution_count": 2,
      "outputs": [
        {
          "output_type": "stream",
          "name": "stdout",
          "text": [
            "[5, 8, -6, 4, 3]\n"
          ]
        }
      ]
    },
    {
      "cell_type": "markdown",
      "source": [
        "Question 2"
      ],
      "metadata": {
        "id": "dvaqYepKKaF0"
      }
    },
    {
      "cell_type": "code",
      "source": [
        "for i in range (5):\n",
        "  for j in range (5-1):\n",
        "    print (5,8,-6,4,3)\n",
        "   \n",
        "   \n",
        "print()"
      ],
      "metadata": {
        "colab": {
          "base_uri": "https://localhost:8080/"
        },
        "id": "ekN-7SHWKdhR",
        "outputId": "e746635c-f9d1-4205-f3a1-5fc87061d788"
      },
      "execution_count": 13,
      "outputs": [
        {
          "output_type": "stream",
          "name": "stdout",
          "text": [
            "5 8 -6 4 3\n",
            "5 8 -6 4 3\n",
            "5 8 -6 4 3\n",
            "5 8 -6 4 3\n",
            "5 8 -6 4 3\n",
            "5 8 -6 4 3\n",
            "5 8 -6 4 3\n",
            "5 8 -6 4 3\n",
            "5 8 -6 4 3\n",
            "5 8 -6 4 3\n",
            "5 8 -6 4 3\n",
            "5 8 -6 4 3\n",
            "5 8 -6 4 3\n",
            "5 8 -6 4 3\n",
            "5 8 -6 4 3\n",
            "5 8 -6 4 3\n",
            "5 8 -6 4 3\n",
            "5 8 -6 4 3\n",
            "5 8 -6 4 3\n",
            "5 8 -6 4 3\n",
            "\n"
          ]
        }
      ]
    },
    {
      "cell_type": "markdown",
      "source": [
        "question 3"
      ],
      "metadata": {
        "id": "KOou_HDgQG8m"
      }
    },
    {
      "cell_type": "code",
      "source": [
        "succesful=True\n",
        "for number in range(3):\n",
        "  print(\"Attempt\")\n",
        "  if (\"successful\"):\n",
        "    print(\"successful\")\n",
        "    break\n"
      ],
      "metadata": {
        "colab": {
          "base_uri": "https://localhost:8080/"
        },
        "id": "WuaITlZnRgZS",
        "outputId": "7fac7a2b-d5cd-4d21-c1aa-be4b2caad3ca"
      },
      "execution_count": 15,
      "outputs": [
        {
          "output_type": "stream",
          "name": "stdout",
          "text": [
            "Attempt\n",
            "successful\n"
          ]
        }
      ]
    },
    {
      "cell_type": "markdown",
      "source": [
        "question 4"
      ],
      "metadata": {
        "id": "4-qXzRZdXmrj"
      }
    },
    {
      "cell_type": "code",
      "source": [
        "number = [1,2,3,4,5,5,6,6,20,]\n",
        "\n",
        "for x in number:\n",
        "  if x == 20:\n",
        "    print(x)\n",
        "    break;\n",
        "  elif x % 2 ==0:\n",
        "    print(x)"
      ],
      "metadata": {
        "colab": {
          "base_uri": "https://localhost:8080/"
        },
        "id": "QJsvm_nlZCzM",
        "outputId": "eaed4726-27dc-4e2c-8e31-7d6b3098081c"
      },
      "execution_count": 7,
      "outputs": [
        {
          "output_type": "stream",
          "name": "stdout",
          "text": [
            "2\n",
            "4\n",
            "6\n",
            "6\n",
            "20\n"
          ]
        }
      ]
    },
    {
      "cell_type": "markdown",
      "source": [
        "Question 5"
      ],
      "metadata": {
        "id": "TLdAYvkzeN7W"
      }
    },
    {
      "cell_type": "code",
      "source": [
        "my_wardrobe = \"shoes bag jewelry\"\n",
        "splitwords = my_wardrobe.split()\n",
        "\n",
        "splitwords.sort()\n",
        "\n",
        "print(\"The words in alphabetical order are...\")\n",
        "for word in splitwords:\n",
        "  print(word)"
      ],
      "metadata": {
        "colab": {
          "base_uri": "https://localhost:8080/"
        },
        "id": "irfT04R4eR87",
        "outputId": "2786568b-591e-435f-dca4-bbdef7522b98"
      },
      "execution_count": 9,
      "outputs": [
        {
          "output_type": "stream",
          "name": "stdout",
          "text": [
            "The words in alphabetical order are...\n",
            "bag\n",
            "jewelry\n",
            "shoes\n"
          ]
        }
      ]
    },
    {
      "cell_type": "markdown",
      "source": [
        "question 6"
      ],
      "metadata": {
        "id": "HuVXgkZzkDua"
      }
    },
    {
      "cell_type": "code",
      "source": [
        "import random\n",
        "\n",
        "lst = ['a','b','c','d','e','f','g','h','i']\n",
        "print(random.sample(lst,3))"
      ],
      "metadata": {
        "colab": {
          "base_uri": "https://localhost:8080/"
        },
        "id": "oXaMqwYlkGvE",
        "outputId": "dece4a6c-9cd0-4f0c-97d0-2d2cbf745559"
      },
      "execution_count": 13,
      "outputs": [
        {
          "output_type": "stream",
          "name": "stdout",
          "text": [
            "['i', 'h', 'g']\n"
          ]
        }
      ]
    },
    {
      "cell_type": "markdown",
      "source": [
        "question 7"
      ],
      "metadata": {
        "id": "Vu17XtmBrJ33"
      }
    },
    {
      "cell_type": "code",
      "source": [
        "closet=[\"bag\",\"jewelry\",\"accesories\",\"shoes\"]\n",
        "print(\"the tour of my closet\")\n",
        "for count in range(0,len(closet)):\n",
        "  print (closet[count])\n"
      ],
      "metadata": {
        "colab": {
          "base_uri": "https://localhost:8080/"
        },
        "id": "sr_6lJFsrMPt",
        "outputId": "b5d60336-5fde-4dcb-f486-563c06d7c5bc"
      },
      "execution_count": 15,
      "outputs": [
        {
          "output_type": "stream",
          "name": "stdout",
          "text": [
            "the tour of my closet\n",
            "bag\n",
            "jewelry\n",
            "accesories\n",
            "shoes\n"
          ]
        }
      ]
    }
  ]
}